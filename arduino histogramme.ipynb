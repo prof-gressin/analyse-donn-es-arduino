{
 "cells": [
  {
   "cell_type": "markdown",
   "metadata": {},
   "source": [
    "# Mesure d'une distance par écholocalisation"
   ]
  },
  {
   "cell_type": "raw",
   "metadata": {},
   "source": [
    "## Récupération des donnés de l'arduino\n",
    "Le bloc suivant permet d'afficher 10 valeurs succesives envoyées par l'arduino\n",
    "Ces valeurs correspondent à la durée que mettent les ultrasons pour parcourrir le chemin de l'émetteur au recepteur\n",
    "\n",
    "Avant de lancer le bloc suivant vérifier sur quel port USB et branché l'arduino et modifier la commande de la ligne 4 \n",
    "liaison = serial.Serial('COM3',9600) en remplaçant COM3 par le bon COM..."
   ]
  },
  {
   "cell_type": "code",
   "execution_count": 1,
   "metadata": {},
   "outputs": [
    {
     "name": "stdout",
     "output_type": "stream",
     "text": [
      "Liaison établie\n",
      "7787\n",
      "7787\n",
      "7813\n",
      "7814\n",
      "7839\n",
      "7787\n",
      "7813\n",
      "7814\n",
      "7839\n",
      "7788\n",
      "Fin de l'acquisition\n"
     ]
    }
   ],
   "source": [
    "import serial\n",
    "\n",
    "try:\n",
    "    liaison = serial.Serial('COM3',9600)\n",
    "    print(\"Liaison établie\")\n",
    "    for i in range (10):\n",
    "        Valeur = liaison.readline().decode().strip().split()\n",
    "        print(Valeur[0])\n",
    "    liaison.close()\n",
    "    print(\"Fin de l'acquisition\")\n",
    "except:\n",
    "    print(\"problème port série\")"
   ]
  },
  {
   "cell_type": "raw",
   "metadata": {},
   "source": [
    "En cas d'arrêt entre Liaison établie et fin de l'acquisition lancer le bloc suivant."
   ]
  },
  {
   "cell_type": "code",
   "execution_count": 48,
   "metadata": {},
   "outputs": [],
   "source": [
    "liaison.close()"
   ]
  },
  {
   "cell_type": "raw",
   "metadata": {},
   "source": [
    "Le premier bloc permet uniquement d'afficher les valeurs mais pas de les stocker "
   ]
  },
  {
   "cell_type": "markdown",
   "metadata": {},
   "source": [
    "## Récupération et stockage des valeurs"
   ]
  },
  {
   "cell_type": "raw",
   "metadata": {},
   "source": [
    "Le bloc suivant va stocker dans une liste : \"Temps\" , 100 valeurs mesurées par l'arduino"
   ]
  },
  {
   "cell_type": "code",
   "execution_count": 3,
   "metadata": {},
   "outputs": [
    {
     "name": "stdout",
     "output_type": "stream",
     "text": [
      "Liaison établie\n",
      "Fin de l'acquisition\n",
      "[7813.0, 7811.0, 7837.0, 7787.0, 7839.0, 7813.0, 7914.0, 7813.0, 7813.0, 7814.0, 7889.0, 7813.0, 7787.0, 7839.0, 7843.0, 7820.0, 7819.0, 7819.0, 7820.0, 7920.0, 7820.0, 7795.0, 7819.0, 7813.0, 7840.0, 7814.0, 7865.0, 7787.0, 7914.0, 7787.0, 7788.0, 7814.0, 7839.0, 7813.0, 7813.0, 7812.0, 7786.0, 7787.0, 7838.0, 7838.0, 7812.0, 7812.0, 7786.0, 7837.0, 7786.0, 7811.0, 7812.0, 7785.0, 7784.0, 7784.0, 7837.0, 7837.0, 7918.0, 7818.0, 7793.0, 7818.0, 7844.0, 7819.0, 7819.0, 7837.0, 7837.0, 7786.0, 7862.0, 7785.0, 7784.0, 7809.0, 7785.0, 7813.0, 7785.0, 7887.0, 7911.0, 7862.0, 7811.0, 7837.0, 7912.0, 7843.0, 7842.0, 7816.0, 7790.0, 7789.0, 7842.0, 7817.0, 7817.0, 7816.0, 7790.0, 7790.0, 7791.0, 7791.0, 7816.0, 7842.0, 7791.0, 7816.0, 7791.0, 7836.0, 7835.0, 7783.0, 7783.0, 7782.0, 7808.0, 7782.0]\n"
     ]
    }
   ],
   "source": [
    "import serial\n",
    "\n",
    "try:\n",
    "    liaison = serial.Serial('COM3',9600)\n",
    "    print(\"Liaison établie\")\n",
    "    Temps = []\n",
    "    for i in range (100):\n",
    "        Valeur = liaison.readline().decode().strip().split()\n",
    "        Temps.append(float(Valeur[0]))\n",
    "    liaison.close()\n",
    "    print(\"Fin de l'acquisition\")\n",
    "    print(Temps)\n",
    "except:\n",
    "    print(\"problème port série\")"
   ]
  },
  {
   "cell_type": "markdown",
   "metadata": {},
   "source": [
    "## Analyse des données récupérés "
   ]
  },
  {
   "cell_type": "raw",
   "metadata": {},
   "source": [
    "on peut calculer la moyenne des valeurs obtenu.\n",
    "En définissant une fonction moyenne\n",
    "Puis en imprimant la moyenne de notre liste \"Temps\""
   ]
  },
  {
   "cell_type": "code",
   "execution_count": 4,
   "metadata": {},
   "outputs": [
    {
     "name": "stdout",
     "output_type": "stream",
     "text": [
      "la moyenne est de :  7820.19\n"
     ]
    }
   ],
   "source": [
    "def moyenne(tableau):\n",
    "    return sum(tableau, 0.0) / len(tableau)\n",
    "\n",
    "print(\"la moyenne est de : \",moyenne(Temps))"
   ]
  },
  {
   "cell_type": "raw",
   "metadata": {},
   "source": [
    "Il est aussi possible de calculer la variance et l'écartype de nos mesures "
   ]
  },
  {
   "cell_type": "code",
   "execution_count": 5,
   "metadata": {
    "scrolled": true
   },
   "outputs": [
    {
     "name": "stdout",
     "output_type": "stream",
     "text": [
      "la variance est de :  1118.3539\n",
      "l'ecart type est de : 33.44179869564435\n"
     ]
    }
   ],
   "source": [
    "def variance(tableau):\n",
    "    m = moyenne(tableau)\n",
    "    return moyenne([(x-m)**2 for x in tableau])\n",
    "\n",
    "print(\"la variance est de : \",variance(Temps))\n",
    "\n",
    "def ecartype(tableau):\n",
    "    return variance(tableau)**0.5\n",
    "\n",
    "print(\"l'ecart type est de :\",ecartype(Temps))"
   ]
  },
  {
   "cell_type": "markdown",
   "metadata": {},
   "source": [
    "## Histogramme des mesures"
   ]
  },
  {
   "cell_type": "raw",
   "metadata": {},
   "source": [
    "C'est représentation graphique intéressante pour analyser une série de mesure "
   ]
  },
  {
   "cell_type": "code",
   "execution_count": 7,
   "metadata": {
    "scrolled": true
   },
   "outputs": [
    {
     "data": {
      "image/png": "[encoded data removed]",
      "text/plain": [
       "<Figure size 432x288 with 1 Axes>"
      ]
     },
     "metadata": {
      "needs_background": "light"
     },
     "output_type": "display_data"
    }
   ],
   "source": [
    "import matplotlib.pyplot as plt\n",
    "\n",
    "try :\n",
    "    plt.hist(Temps, bins = 10, color = 'yellow', edgecolor = 'red')\n",
    "    plt.xlabel('Temps')\n",
    "    plt.ylabel('nombres')\n",
    "    plt.title('histogramme des temps mesurés')\n",
    "    plt.show()\n",
    "except:\n",
    "    print(\"Graphique non traçable\")\n"
   ]
  },
  {
   "cell_type": "raw",
   "metadata": {},
   "source": [
    "Pour finir utilisons c'est données pour retrouver la distance entre l'objet et la  sonde à utrason."
   ]
  },
  {
   "cell_type": "code",
   "execution_count": 8,
   "metadata": {},
   "outputs": [
    {
     "name": "stdout",
     "output_type": "stream",
     "text": [
      "l'objet se trouve à  1.3489827749999999 m à + ou - 0.0005768710274998651 m\n"
     ]
    }
   ],
   "source": [
    "def distance(temps) :\n",
    "    return moyenne(temps)*345e-6 / 2\n",
    "\n",
    "def incertitude (temps) :\n",
    "    return ecartype(temps)*345e-6 / 2 / len(temps)**0.5 \n",
    "print(\"l'objet se trouve à \",distance(Temps),\"m à + ou -\",incertitude(Temps),\"m\")"
   ]
  }
 ],
 "metadata": {
  "kernelspec": {
   "display_name": "Python 3",
   "language": "python",
   "name": "python3"
  },
  "language_info": {
   "codemirror_mode": {
    "name": "ipython",
    "version": 3
   },
   "file_extension": ".py",
   "mimetype": "text/x-python",
   "name": "python",
   "nbconvert_exporter": "python",
   "pygments_lexer": "ipython3",
   "version": "3.6.8"
  }
 },
 "nbformat": 4,
 "nbformat_minor": 2
}
